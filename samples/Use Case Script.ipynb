{
 "cells": [
  {
   "cell_type": "code",
   "execution_count": 34,
   "metadata": {},
   "outputs": [],
   "source": [
    "import numpy as np\n",
    "names = ['A', 'B', 'C', 'D', 'E']\n",
    "qv = np.random.random((5, 5))\n",
    "ss = np.random.random((5, 5))\n",
    "np.savetxt('q_values.csv', qv, fmt='%.3f', delimiter='\\t', header='\\t'.join(names), comments='')\n",
    "np.savetxt('sim_scores.csv', ss, fmt='%.3f', delimiter='\\t', header='\\t'.join(names), comments='')"
   ]
  },
  {
   "cell_type": "code",
   "execution_count": 64,
   "metadata": {
    "collapsed": true
   },
   "outputs": [],
   "source": [
    "import requests, os, json\n",
    "CyREST = \"http://localhost:1234/\"\n",
    "# write.csv(matrix, sep=”,”, row.names=True, column.names=True)\n",
    "headers = {\n",
    "  'Content-Type': 'application/json',\n",
    "  'Accept': 'application/json'\n",
    "}\n",
    "paths = [\n",
    "    os.path.join(os.getcwd(), \"q_values.csv\"),\n",
    "     os.path.join(os.getcwd(), \"sim_scores.csv\")\n",
    "]"
   ]
  },
  {
   "cell_type": "code",
   "execution_count": 65,
   "metadata": {},
   "outputs": [
    {
     "name": "stdout",
     "output_type": "stream",
     "text": [
      "{'files': ['/Users/bsettle/git/aMatReader/samples/q_values.csv', '/Users/bsettle/git/aMatReader/samples/sim_scores.csv'], 'delimiter': 'TAB', 'undirected': True, 'ignoreZeros': True, 'interactionName': 'interacts with', 'rowNames': False, 'columnNames': True, 'removeColumnPrefix': False}\n"
     ]
    }
   ],
   "source": [
    "data = {\n",
    "  'files': paths,\n",
    "  'delimiter': 'TAB',\n",
    "  'undirected': True,\n",
    "  'ignoreZeros': True,\n",
    "  'interactionName': 'interacts with',\n",
    "  'rowNames': False,\n",
    "  'columnNames': True,\n",
    "  'removeColumnPrefix': False\n",
    "}\n",
    "print(data)"
   ]
  },
  {
   "cell_type": "code",
   "execution_count": 66,
   "metadata": {},
   "outputs": [],
   "source": [
    "# Execute post, import matrix files to a single network\n",
    "res = requests.post(\"http://localhost:1234/aMatReader/v1/import\", data = json.dumps(data), headers=HEADERS)\n",
    "res = res.json()\n",
    "suid = res['data']['suid']\n",
    "\n",
    "# perform filtering via Cytoscape Automation\n",
    "edges = requests.get('http://localhost:1234/v1/networks/{SUID}/edges'.format(SUID=suid))\n",
    "edges = edges.json()\n",
    "\n",
    "# loop through edge SUIDs and remove it if the q_val is below a certain threshold\n",
    "# To get edge attributes, use:\n",
    "for edge in edges:\n",
    "    attrs = requests.get('http://localhost:1234/v1/networks/{networkSUID}/tables/defaultedge/rows/{edgeSUID}'\n",
    "                     .format(networkSUID=suid, edgeSUID=edge), headers=HEADERS)\n",
    "    attrs = attrs.json()\n",
    "    if attrs['q_values.csv'] < .5:\n",
    "        requests.delete('http://localhost:1234/v1/networks/{SUID}/edges/{edgeSUID}'.\n",
    "                        format(SUID=suid, edgeSUID=edge), headers=HEADERS)\n"
   ]
  },
  {
   "cell_type": "code",
   "execution_count": null,
   "metadata": {
    "collapsed": true
   },
   "outputs": [],
   "source": []
  }
 ],
 "metadata": {
  "kernelspec": {
   "display_name": "Python 3",
   "language": "python",
   "name": "python3"
  },
  "language_info": {
   "codemirror_mode": {
    "name": "ipython",
    "version": 3
   },
   "file_extension": ".py",
   "mimetype": "text/x-python",
   "name": "python",
   "nbconvert_exporter": "python",
   "pygments_lexer": "ipython3",
   "version": "3.6.1"
  }
 },
 "nbformat": 4,
 "nbformat_minor": 2
}
