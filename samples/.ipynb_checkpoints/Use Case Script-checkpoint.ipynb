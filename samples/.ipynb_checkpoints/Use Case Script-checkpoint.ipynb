{
 "cells": [
  {
   "cell_type": "code",
   "execution_count": 2,
   "metadata": {
    "collapsed": true
   },
   "outputs": [],
   "source": [
    "import requests\n",
    "# write.csv(matrix, sep=”,”, row.names=True, column.names=True)\n",
    "HEADERS = {'Content-Type': 'application/json'}"
   ]
  },
  {
   "cell_type": "code",
   "execution_count": 7,
   "metadata": {
    "collapsed": true
   },
   "outputs": [],
   "source": [
    "data = {\n",
    "  'files': [\n",
    "    'sim_scores.csv',\n",
    "    'q_values.csv'\n",
    "  ],\n",
    "  'delimiter': 'TAB',\n",
    "  'undirected': True,\n",
    "  'ignoreZeros': True,\n",
    "  'interactionName': 'interacts with',\n",
    "  'rowNames': True,\n",
    "  'columnNames': True,\n",
    "  'removeColumnPrefix': True\n",
    "}"
   ]
  },
  {
   "cell_type": "code",
   "execution_count": 12,
   "metadata": {},
   "outputs": [
    {
     "ename": "KeyError",
     "evalue": "'suid'",
     "output_type": "error",
     "traceback": [
      "\u001b[0;31m---------------------------------------------------------------------------\u001b[0m",
      "\u001b[0;31mKeyError\u001b[0m                                  Traceback (most recent call last)",
      "\u001b[0;32m<ipython-input-12-5e8762768695>\u001b[0m in \u001b[0;36m<module>\u001b[0;34m()\u001b[0m\n\u001b[1;32m      2\u001b[0m \u001b[0mres\u001b[0m \u001b[0;34m=\u001b[0m \u001b[0mrequests\u001b[0m\u001b[0;34m.\u001b[0m\u001b[0mpost\u001b[0m\u001b[0;34m(\u001b[0m\u001b[0;34m\"http://localhost:1234/aMatReader/v1/import\"\u001b[0m\u001b[0;34m,\u001b[0m \u001b[0mdata\u001b[0m \u001b[0;34m=\u001b[0m \u001b[0mdata\u001b[0m\u001b[0;34m,\u001b[0m \u001b[0mheaders\u001b[0m\u001b[0;34m=\u001b[0m\u001b[0mHEADERS\u001b[0m\u001b[0;34m)\u001b[0m\u001b[0;34m\u001b[0m\u001b[0m\n\u001b[1;32m      3\u001b[0m \u001b[0mres\u001b[0m \u001b[0;34m=\u001b[0m \u001b[0mres\u001b[0m\u001b[0;34m.\u001b[0m\u001b[0mjson\u001b[0m\u001b[0;34m(\u001b[0m\u001b[0;34m)\u001b[0m\u001b[0;34m\u001b[0m\u001b[0m\n\u001b[0;32m----> 4\u001b[0;31m \u001b[0msuid\u001b[0m \u001b[0;34m=\u001b[0m \u001b[0mres\u001b[0m\u001b[0;34m[\u001b[0m\u001b[0;34m'suid'\u001b[0m\u001b[0;34m]\u001b[0m\u001b[0;34m\u001b[0m\u001b[0m\n\u001b[0m\u001b[1;32m      5\u001b[0m \u001b[0;34m\u001b[0m\u001b[0m\n\u001b[1;32m      6\u001b[0m \u001b[0;31m# perform filtering via Cytoscape Automation\u001b[0m\u001b[0;34m\u001b[0m\u001b[0;34m\u001b[0m\u001b[0m\n",
      "\u001b[0;31mKeyError\u001b[0m: 'suid'"
     ]
    }
   ],
   "source": [
    "# Execute post, import matrix files to a single network\n",
    "res = requests.post(\"http://localhost:1234/aMatReader/v1/import\", data = data, headers=HEADERS)\n",
    "res = res.json()\n",
    "suid = res['suid']\n",
    "\n",
    "# perform filtering via Cytoscape Automation\n",
    "edges = requests.get('http://localhost:1234/v1/networks/{SUID}/edges'.format(SUID=suid))\n",
    "edges = edges.json()\n",
    "\n",
    "# loop through edge SUIDs and remove it if the q_val is below a certain threshold\n",
    "# To get edge attributes, use:\n",
    "for edge in edges:\n",
    "    attrs = requests.get('http://localhost:1234/v1/networks/{networkSUID}/tables/defaultedge/rows/{edgeSUID}'\n",
    "                     .format(networkSUID=suid, edgeSUID=edge))\n",
    "    attrs = attrs.json()\n",
    "    print(attrs)\n",
    "    break\n"
   ]
  },
  {
   "cell_type": "code",
   "execution_count": null,
   "metadata": {
    "collapsed": true
   },
   "outputs": [],
   "source": []
  }
 ],
 "metadata": {
  "kernelspec": {
   "display_name": "Python 3",
   "language": "python",
   "name": "python3"
  },
  "language_info": {
   "codemirror_mode": {
    "name": "ipython",
    "version": 3
   },
   "file_extension": ".py",
   "mimetype": "text/x-python",
   "name": "python",
   "nbconvert_exporter": "python",
   "pygments_lexer": "ipython3",
   "version": "3.6.1"
  }
 },
 "nbformat": 4,
 "nbformat_minor": 2
}
